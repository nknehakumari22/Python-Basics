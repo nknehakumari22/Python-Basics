{
 "cells": [
  {
   "cell_type": "code",
   "execution_count": 5,
   "id": "45aabdd7-f793-45ec-a6a3-4833ae4f1963",
   "metadata": {},
   "outputs": [
    {
     "data": {
      "text/plain": [
       "'\\n1. What is Python, and why is it popular?\\nAns. Python is a programming language known for its versatility, simplicity and ease of writing.\\n    python is popular because of the following reasons;\\n\\n    a. easy to learn,\\n    b. it is versatile,\\n    c. lot of libraries,\\n    d. supported by many platform,\\n    e.widely used in industries,\\n    f. free and open source.\\n    \\n    '"
      ]
     },
     "execution_count": 5,
     "metadata": {},
     "output_type": "execute_result"
    }
   ],
   "source": [
    "# Theory Python Basics Question Answers\n",
    "\"\"\"\n",
    "1. What is Python, and why is it popular?\n",
    "Ans. Python is a programming language known for its versatility, simplicity and ease of writing.\n",
    "    python is popular because of the following reasons;\n",
    "\n",
    "    a. easy to learn,\n",
    "    b. it is versatile,\n",
    "    c. lot of libraries,\n",
    "    d. supported by many platform,\n",
    "    e.widely used in industries,\n",
    "    f. free and open source.\n",
    "\n",
    "2. What is an interpreter in python?\n",
    "Ans. It is a program in python that reads the program and run it line by line. Inspite of converting the whole program into machine language at once,\n",
    "it check each line and runs it. Because of the interpreter, Python is easy to test and use, especially for beginners.\n",
    "\n",
    "3. What are pre-defined keywords in Python?\n",
    "Ans. Pre- defined keyword the special words that have a fixed meaning.\n",
    "This are already defined by python and we cannot use them as variable name or to define something.\n",
    "\n",
    "4. Can keywords be used as variable name?\n",
    "Ans. Keywords cannot be used as variable name in python as keywords are pre defined and if we try to do so it will throw an error of syntax error.\n",
    "\n",
    "5.  What is mutability in Python?\n",
    "Ans.Mutability is the ability to change the value of an object once created.\n",
    "    The objects whose value can be changed ater their creation is called mutable object or mutable container.\n",
    "    Example :List, Set, dict,array.\n",
    "\n",
    "6.Why are lists mutable, but tuples are immutable?\n",
    "Ans. List are meant to be changed. We can add stuff, remove things, or just update specific items.\n",
    "    This makes them perfect for situations where our data is constantly changing, like keeping track of assignments or game scores.\n",
    "    On the other hand tuples are locked in, which is great for stuff we don’t want accidentally modified.\n",
    "    Plus, immutability can help keep things safer and a little more efficient.\n",
    "    Therefore we can say that lists is made for flexibility and tuples for stability.\n",
    "\n",
    "    7.  What is the difference between “==” and “is” operators in Python?\n",
    " \n",
    "Ans. == compares the values of two variables.\n",
    "\tIt checks do they look the same.\n",
    "\n",
    "\tExample: a = [1, 2, 3]\n",
    "\t\tb = [1, 2, 3]\n",
    "\t\ta == b\n",
    "\t\tTrue (same values)\n",
    "\tWhile is compares the location of two variables/Objects. That is it checks if both names point to the same object in memory.\n",
    "\t\n",
    "\tExample: \n",
    "\t\tc = a\n",
    "\t\ta is c\n",
    "\t\tTrue #(same object)\n",
    "8.  What are logical operators in Python?\n",
    "\n",
    "Ans.Logical operators are used to check more than one condition at a time. They help us make decisions in programs.\n",
    "    There are three main logical operators:\n",
    "\n",
    "\tAnd (True if both are True; True and True → True)\n",
    "\tOr (True if at least one is True; True or False → True)\n",
    "\tNot (Flips the value; not True → False)\n",
    "\n",
    "9.  What is type casting in Python?\n",
    "Ans. Type casting means changing the type of a value from one type to another.\n",
    "\tFor example:\n",
    "\tChanging a number into a string, or a string into a number.\n",
    "\n",
    "\tCommon Type Casting Functions:\n",
    "\n",
    "\tFunction\tConverts to...\n",
    "\tint()\tInteger (whole number)\n",
    "\tfloat()\tDecimal number\n",
    "\tstr()\tString (text)\n",
    "\tbool()\tBoolean (True/False)\n",
    "\n",
    "\n",
    "10.  What is the difference between implicit and explicit type casting?\n",
    "Ans. Type casting refers to changing the type of a value from one type to another.\n",
    "\n",
    "\t1.Implicit Type Casting- the type casting happens automatically\n",
    " \t  by the compiler\n",
    "\t2. Explicit Type casting- the type casting is done manually by the programmer.\n",
    "\t   It leads to data loss. \n",
    "\t   For example if a float is converted to integer(int) data type then the decimal part of the float value is lossed.\n",
    "\n",
    "11.  What is the purpose of conditional statements in Python?\n",
    "Ans. The purpose of conditional statements in Python is to allow a program to make decisions and\n",
    "\texecute certain blocks of code based on specific conditions. They control the flow of a program based on certain conditions.\n",
    "\t\n",
    "\tThe main conditional statements in Python are:\n",
    "\t\tif\n",
    "\t\tif-else\n",
    "\t\tif-elif-else\n",
    "\t\tnested if\n",
    "12. How does the elif statement work?\n",
    "Ans. The elif statement in Python stands for \"else if\" and is used to check multiple condition after the first if statement.\n",
    "\tAfter evaluating an initial if condition, if that condition is false, the program proceeds to check each elif condition sequentially. \n",
    "\tThe first elif condition that evaluates to true will have its associated block of code executed, and the remaining conditions are ignored.\n",
    "\tIf none of the if or elif conditions are satisfied, an optional else block will be executed.\n",
    "\tThe elif statement is essential for writing clear, efficient, and readable programs that require multiple condition checks.\n",
    "\n",
    "13.  What is the difference between for and while loops?\n",
    "Ans. Both for and while loops are used to execute a block of code again and again, but they differ in their usage based on the requirement.\n",
    "\t\n",
    "\tFor loop:\n",
    "\tIt is mainly used for definite iteration, where the number of repetitions is known.\n",
    "\tIt automatically handles the condition checking, and increment or decrement of the loop variable.\n",
    " \t\n",
    "\tWhile loop:\n",
    "\tA while loop is used when the number of iterations is not known in advance.\n",
    "\tThe loop will continue to execute as long as the given condition remains true.\n",
    "\t\n",
    "\tTherefore, we can say that a for loop is typically used when the number of iterations is known or finite, and\n",
    "\ta while loop is used when the number of iterations is uncertain and based on a condition.\n",
    "\n",
    "14. Describe a scenario where a while loop is more suitable than a for loop.\n",
    "Ans. Consider a program that simulates a user login system. The program should repeatedly prompt the\n",
    "\tuser to enter their username and password until they provide the correct credentials.\n",
    "\tSince the number of attempts the user might need is unpredictable, a while loop is appropriate for this scenario.\n",
    "\t Example: \n",
    "\t\tcorrect_username = \"admin\"\n",
    "\t\tcorrect_password = \"password123\"\n",
    "\n",
    "\t\tusername = input(\"Enter username: \")\n",
    "\t\tpassword = input(\"Enter password: \")\n",
    "\n",
    "\t\twhile username != correct_username or password != correct_password:\n",
    "   \t\t print(\"Incorrect username or password. Please try again.\")\n",
    " \t\t   username = input(\"Enter username: \")\n",
    "  \t\t  password = input(\"Enter password: \")\n",
    "\n",
    "\t\t\tprint(\"Login successful!\")    \n",
    "    \"\"\"\n",
    "\n",
    "\n",
    "    "
   ]
  },
  {
   "cell_type": "code",
   "execution_count": 1,
   "id": "b22c6db9-ee05-49f3-97d4-40a26fda7f42",
   "metadata": {},
   "outputs": [],
   "source": [
    "##                       PRACTICAL QUESTIONS ANSWERS\n"
   ]
  },
  {
   "cell_type": "code",
   "execution_count": 3,
   "id": "9aeb85d0-1ecd-41d7-9d94-ba50488369a7",
   "metadata": {},
   "outputs": [
    {
     "name": "stdout",
     "output_type": "stream",
     "text": [
      "Hello, World!\n"
     ]
    }
   ],
   "source": [
    "#1.  Write a Python program to print \"Hello, World!?\n",
    "# Ans\n",
    "print(\"Hello, World!\")\n"
   ]
  },
  {
   "cell_type": "code",
   "execution_count": 17,
   "id": "63dcc4f4-bd61-4058-9f3b-1f8da42baa95",
   "metadata": {},
   "outputs": [
    {
     "name": "stdout",
     "output_type": "stream",
     "text": [
      "Neha\n",
      "29\n"
     ]
    }
   ],
   "source": [
    "# 2.  Write a Python program that displays your name.\n",
    "print('Neha')\n",
    "print('29')\n",
    "\n"
   ]
  },
  {
   "cell_type": "code",
   "execution_count": 20,
   "id": "60aaa7c6-7196-4de1-b7a9-21dfa0233a39",
   "metadata": {},
   "outputs": [
    {
     "name": "stdout",
     "output_type": "stream",
     "text": [
      "List of Python keywords:\n",
      "False\n",
      "None\n",
      "True\n",
      "and\n",
      "as\n",
      "assert\n",
      "async\n",
      "await\n",
      "break\n",
      "class\n",
      "continue\n",
      "def\n",
      "del\n",
      "elif\n",
      "else\n",
      "except\n",
      "finally\n",
      "for\n",
      "from\n",
      "global\n",
      "if\n",
      "import\n",
      "in\n",
      "is\n",
      "lambda\n",
      "nonlocal\n",
      "not\n",
      "or\n",
      "pass\n",
      "raise\n",
      "return\n",
      "try\n",
      "while\n",
      "with\n",
      "yield\n"
     ]
    }
   ],
   "source": [
    "#3.  Write code to print all the pre-defined keywords in Python using the keyword library.\n",
    "\n",
    "keywords_list = keyword.kwlist\n",
    "print(\"List of Python keywords:\")\n",
    "for i in keywords_list:\n",
    "    print(i)"
   ]
  },
  {
   "cell_type": "code",
   "execution_count": 22,
   "id": "4e263d98-8af3-49a3-900e-ba3356f7e09e",
   "metadata": {},
   "outputs": [
    {
     "name": "stdin",
     "output_type": "stream",
     "text": [
      "Enter a word:  h\n"
     ]
    },
    {
     "name": "stdout",
     "output_type": "stream",
     "text": [
      "'h' is not a Python keyword.\n"
     ]
    }
   ],
   "source": [
    "# 4.  Write a program that checks if a given word is a Python keyword.\n",
    "\n",
    "input1 = input(\"Enter a word: \")\n",
    "if keyword.iskeyword(input1):\n",
    "    print(f\"'{input1}' is a Python keyword.\")\n",
    "else:\n",
    "    print(f\"'{input1}' is not a Python keyword.\")\n",
    "\n"
   ]
  },
  {
   "cell_type": "code",
   "execution_count": 13,
   "id": "70d97923-566a-4e43-a3b2-c9cbab027175",
   "metadata": {},
   "outputs": [
    {
     "data": {
      "text/plain": [
       "[6, 2, 3, 4, 5]"
      ]
     },
     "execution_count": 13,
     "metadata": {},
     "output_type": "execute_result"
    }
   ],
   "source": [
    "# 5.Create a list and tuple in Python, and demonstrate how attempting to change an element works differently for each\n",
    "lst=[1, 2, 3, 4, 5]\n",
    "lst[0]=6 # the first element of the list is modified as 6\n",
    "lst"
   ]
  },
  {
   "cell_type": "code",
   "execution_count": 26,
   "id": "9c8dde82-6107-468a-ac4e-cbc45f302f3c",
   "metadata": {},
   "outputs": [
    {
     "ename": "TypeError",
     "evalue": "'tuple' object does not support item assignment",
     "output_type": "error",
     "traceback": [
      "\u001b[1;31m---------------------------------------------------------------------------\u001b[0m",
      "\u001b[1;31mTypeError\u001b[0m                                 Traceback (most recent call last)",
      "Cell \u001b[1;32mIn[26], line 2\u001b[0m\n\u001b[0;32m      1\u001b[0m tpl\u001b[38;5;241m=\u001b[39m(\u001b[38;5;241m1\u001b[39m, \u001b[38;5;241m2\u001b[39m,\u001b[38;5;241m3\u001b[39m, \u001b[38;5;241m4\u001b[39m)\n\u001b[1;32m----> 2\u001b[0m tpl[\u001b[38;5;241m1\u001b[39m]\u001b[38;5;241m=\u001b[39m\u001b[38;5;241m5\u001b[39m \u001b[38;5;66;03m# it throws an error that it does not support item assignment\u001b[39;00m\n\u001b[0;32m      3\u001b[0m tpl\n",
      "\u001b[1;31mTypeError\u001b[0m: 'tuple' object does not support item assignment"
     ]
    }
   ],
   "source": [
    "tpl=(1, 2,3, 4)\n",
    "tpl[1]=5 # it throws an error that it does not support item assignment\n",
    "tpl"
   ]
  },
  {
   "cell_type": "code",
   "execution_count": 1,
   "id": "f4d6aeaf-fec4-4a9f-818a-f1fd8f0bab1a",
   "metadata": {},
   "outputs": [
    {
     "name": "stdout",
     "output_type": "stream",
     "text": [
      "Before function call: list = [1, 2, 3], number = 5\n",
      "Inside function (after modifying list): [1, 2, 3, 100]\n",
      "Inside function (after modifying number): 15\n",
      "After function call: list = [1, 2, 3, 100], number = 5\n"
     ]
    }
   ],
   "source": [
    "# 6.  Write a function to demonstrate the behavior of mutable and immutable arguments.\n",
    "def modify_arguments(a_list, a_number):\n",
    "    # Modifying the list (mutable)\n",
    "    a_list.append(100)\n",
    "    print(f\"Inside function (after modifying list): {a_list}\")\n",
    "    # Modifying the number (immutable)\n",
    "    a_number += 10\n",
    "    print(f\"Inside function (after modifying number): {a_number}\")\n",
    "# Outside the function\n",
    "my_list = [1, 2, 3]\n",
    "my_number = 5\n",
    "print(f\"Before function call: list = {my_list}, number = {my_number}\")\n",
    "modify_arguments(my_list, my_number)\n",
    "print(f\"After function call: list = {my_list}, number = {my_number}\")\n"
   ]
  },
  {
   "cell_type": "code",
   "execution_count": 3,
   "id": "b6f68098-081c-4b02-9510-533ee9bb1064",
   "metadata": {},
   "outputs": [
    {
     "name": "stdout",
     "output_type": "stream",
     "text": [
      "Before function call: list = [1, 2, 3], number = 5\n",
      "Inside function (after modifying list): [1, 2, 3, 100]\n",
      "Inside function (after modifying number): 15\n",
      "After function call: list = [1, 2, 3, 100], number = 5\n"
     ]
    }
   ],
   "source": [
    "#  7  Write a function to demonstrate the behavior of mutable and immutable arguments.\n",
    "def modify_arguments(a_list, a_number):\n",
    "    # Modifying the list (mutable)\n",
    "    a_list.append(100)\n",
    "    print(f\"Inside function (after modifying list): {a_list}\")\n",
    "    # Modifying the number (immutable)\n",
    "    a_number += 10\n",
    "    print(f\"Inside function (after modifying number): {a_number}\")\n",
    "# Outside the function\n",
    "my_list = [1, 2, 3]\n",
    "my_number = 5\n",
    "print(f\"Before function call: list = {my_list}, number = {my_number}\")\n",
    "modify_arguments(my_list, my_number)\n",
    "print(f\"After function call: list = {my_list}, number = {my_number}\")"
   ]
  },
  {
   "cell_type": "code",
   "execution_count": 21,
   "id": "cee86a3c-4f47-4d8e-9a63-9a0a552a703e",
   "metadata": {},
   "outputs": [
    {
     "name": "stdout",
     "output_type": "stream",
     "text": [
      "a = 3, b = 4\n",
      "\n",
      "Both a and b are positive.\n",
      "At least one of a or b is positive.\n",
      "a is not negative.\n"
     ]
    }
   ],
   "source": [
    "# 8.  Write a program to demonstrate the use of logical operators.\n",
    "\n",
    "\n",
    "def logical_operators_demo(a, b):\n",
    "\n",
    "    print(f\"a = {a}, b = {b}\\n\")\n",
    "\n",
    "    # Logical AND\n",
    "    if a > 0 and b > 0:\n",
    "        print(\"Both a and b are positive.\")\n",
    "    else:\n",
    "        print(\"Either a or b is not positive.\")\n",
    "\n",
    "    # Logical OR\n",
    "    if a > 0 or b > 0:\n",
    "        print(\"At least one of a or b is positive.\")\n",
    "    else:\n",
    "        print(\"Neither a nor b is positive.\")\n",
    "\n",
    "    # Logical NOT\n",
    "    if not (a < 0):\n",
    "        print(\"a is not negative.\")\n",
    "    else:\n",
    "        print(\"a is negative.\")\n",
    "\n",
    "\n",
    "logical_operators_demo(3, 4)\n",
    "\n",
    "\n",
    "\n"
   ]
  },
  {
   "cell_type": "code",
   "execution_count": 1,
   "id": "0646cc79-4861-474c-9e67-2f1feae33d9d",
   "metadata": {},
   "outputs": [
    {
     "name": "stdin",
     "output_type": "stream",
     "text": [
      "Type something:  2\n"
     ]
    },
    {
     "name": "stdout",
     "output_type": "stream",
     "text": [
      "This is an integer: 2\n",
      "This is a float number: 2.0\n",
      "This means: False (boolean)\n"
     ]
    }
   ],
   "source": [
    "# 9  Write a Python program to convert user input from string to integer, float, and boolean types.\n",
    "# Get input from the user\n",
    "value = input(\"Type something: \")\n",
    "\n",
    "# Convert to integer\n",
    "try:\n",
    "    number = int(value)\n",
    "    print(\"This is an integer:\", number)\n",
    "except:\n",
    "    print(\"This is not an integer.\")\n",
    "\n",
    "# Convert to float\n",
    "try:\n",
    "    decimal = float(value)\n",
    "    print(\"This is a float number:\", decimal)\n",
    "except:\n",
    "    print(\"This is not a float number.\")\n",
    "\n",
    "# Convert to boolean\n",
    "if value.lower() == \"true\":\n",
    "    print(\"This means: True (boolean)\")\n",
    "else:\n",
    "    print(\"This means: False (boolean)\")"
   ]
  },
  {
   "cell_type": "code",
   "execution_count": 5,
   "id": "605c3803-3564-4f05-86f7-b2083cdd180e",
   "metadata": {},
   "outputs": [
    {
     "name": "stdout",
     "output_type": "stream",
     "text": [
      "Let's change to whole numbers:\n",
      "10 becomes 10\n",
      "20 becomes 20\n",
      "30 becomes 30\n",
      "40.5 becomes 40\n",
      "true can't be a whole number\n",
      "\n",
      "Let's change to decimal numbers:\n",
      "10 becomes 10.0\n",
      "20 becomes 20.0\n",
      "30 becomes 30.0\n",
      "40.5 becomes 40.5\n",
      "true can't be a decimal number\n",
      "\n",
      "Let's change to True or False:\n",
      "10 means False\n",
      "20 means False\n",
      "30 means False\n",
      "40.5 means False\n",
      "true means True\n"
     ]
    }
   ],
   "source": [
    "#10.  Write code to demonstrate type casting with list elements.\n",
    "\n",
    "# We have a list of words that look like numbers\n",
    "my_list = [\"10\", \"20\", \"30\", \"40.5\", \"true\"]\n",
    "\n",
    "# Let's try to change them into whole numbers (integers)\n",
    "print(\"Let's change to whole numbers:\")\n",
    "for item in my_list:\n",
    "    try:\n",
    "        number = int(float(item))  # first make it a float, then an integer\n",
    "        print(item, \"becomes\", number)\n",
    "    except:\n",
    "        print(item, \"can't be a whole number\")\n",
    "\n",
    "print(\"\\nLet's change to decimal numbers:\")\n",
    "# Now let's try to change them into decimal numbers (floats)\n",
    "for item in my_list:\n",
    "    try:\n",
    "        decimal = float(item)\n",
    "        print(item, \"becomes\", decimal)\n",
    "    except:\n",
    "        print(item, \"can't be a decimal number\")\n",
    "\n",
    "print(\"\\nLet's change to True or False:\")\n",
    "# Now let's try to turn them into True or False (booleans)\n",
    "for item in my_list:\n",
    "    if item.lower() in [\"true\", \"yes\", \"1\"]:\n",
    "        print(item, \"means\", True)\n",
    "    else:\n",
    "        print(item, \"means\", False)\n"
   ]
  },
  {
   "cell_type": "code",
   "execution_count": 9,
   "id": "33903678-aea6-4368-a7a8-2a57a6c8319b",
   "metadata": {},
   "outputs": [
    {
     "name": "stdin",
     "output_type": "stream",
     "text": [
      "Enter a number:  2\n"
     ]
    },
    {
     "name": "stdout",
     "output_type": "stream",
     "text": [
      "The number is positive.\n"
     ]
    }
   ],
   "source": [
    "#11  Write a program that checks if a number is positive, negative, or zero.\n",
    "\n",
    "\n",
    "num = float(input(\"Enter a number: \"))\n",
    "\n",
    "if num > 0:\n",
    "    print(\"The number is positive.\")\n",
    "elif num == 0:\n",
    "    print(\"The number is zero.\")\n",
    "else:\n",
    "    print(\"The number is negative.\")\n"
   ]
  },
  {
   "cell_type": "code",
   "execution_count": 11,
   "id": "8da680d9-e318-44e0-a1ff-c3279b2d5369",
   "metadata": {},
   "outputs": [
    {
     "name": "stdout",
     "output_type": "stream",
     "text": [
      "1\n",
      "2\n",
      "3\n",
      "4\n",
      "5\n",
      "6\n",
      "7\n",
      "8\n",
      "9\n",
      "10\n"
     ]
    }
   ],
   "source": [
    "#12  Write a for loop to print numbers from 1 to 10.\n",
    "for number in range(1, 11):\n",
    "    print(number)"
   ]
  },
  {
   "cell_type": "code",
   "execution_count": 13,
   "id": "259f41ad-138b-4ad1-9418-320c7fc87240",
   "metadata": {},
   "outputs": [
    {
     "name": "stdout",
     "output_type": "stream",
     "text": [
      "The sum of even numbers from 1 to 50 is: 650\n"
     ]
    }
   ],
   "source": [
    "#13   Write a Python program to find the sum of all even numbers between 1 and 50.\n",
    "total = 0 \n",
    "\n",
    "for number in range(2, 51, 2):  \n",
    "    total += number  # Add the current even number to our total\n",
    "\n",
    "print(\"The sum of even numbers from 1 to 50 is:\", total)"
   ]
  },
  {
   "cell_type": "code",
   "execution_count": 15,
   "id": "ed4175e0-c488-4afd-a2d0-1efc7438b7e1",
   "metadata": {},
   "outputs": [
    {
     "name": "stdin",
     "output_type": "stream",
     "text": [
      "Type a word:  neha\n"
     ]
    },
    {
     "name": "stdout",
     "output_type": "stream",
     "text": [
      "Reversed word is: ahen\n"
     ]
    }
   ],
   "source": [
    "#14  Write a program to reverse a string using a while loop.\n",
    "# Let's reverse a word using a while loop!\n",
    "\n",
    "word = input(\"Type a word: \")  # Ask the user to type a word\n",
    "reversed_word = \"\"             # This will store the reversed word\n",
    "index = len(word) - 1          # Start from the last letter of the word\n",
    "\n",
    "while index >= 0:\n",
    "    reversed_word += word[index]  # Add the letter to reversed_word\n",
    "    index -= 1                    # Move to the previous letter\n",
    "\n",
    "print(\"Reversed word is:\", reversed_word)\n"
   ]
  },
  {
   "cell_type": "code",
   "execution_count": 19,
   "id": "3d066136-5847-468a-9ff1-fdcfde1ab0d4",
   "metadata": {},
   "outputs": [
    {
     "name": "stdin",
     "output_type": "stream",
     "text": [
      "Enter a number:  3\n"
     ]
    },
    {
     "name": "stdout",
     "output_type": "stream",
     "text": [
      "The factorial is: 6\n"
     ]
    }
   ],
   "source": [
    "# 15  Write a Python program to calculate the factorial of a number provided by the user using a while loop.\n",
    "# Ask the user to enter a number\n",
    "num = int(input(\"Enter a number: \"))\n",
    "\n",
    "# Initialize the result to 1\n",
    "factorial = 1\n",
    "\n",
    "# Check if the number is negative, zero, or positive\n",
    "if num < 0:\n",
    "    print(\"Sorry, factorial does not exist for negative numbers.\")\n",
    "elif num == 0:\n",
    "    print(\"The factorial of 0 is 1.\")\n",
    "else:\n",
    "    # Use a while loop to calculate the factorial\n",
    "    while num > 1:\n",
    "        factorial *= num\n",
    "        num -= 1\n",
    "    print(\"The factorial is:\", factorial)\n"
   ]
  },
  {
   "cell_type": "code",
   "execution_count": null,
   "id": "413e36b7-b5a4-41af-855b-4440678f4070",
   "metadata": {},
   "outputs": [],
   "source": []
  }
 ],
 "metadata": {
  "kernelspec": {
   "display_name": "Python [conda env:base] *",
   "language": "python",
   "name": "conda-base-py"
  },
  "language_info": {
   "codemirror_mode": {
    "name": "ipython",
    "version": 3
   },
   "file_extension": ".py",
   "mimetype": "text/x-python",
   "name": "python",
   "nbconvert_exporter": "python",
   "pygments_lexer": "ipython3",
   "version": "3.12.7"
  }
 },
 "nbformat": 4,
 "nbformat_minor": 5
}
